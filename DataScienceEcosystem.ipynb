{
 "cells": [
  {
   "cell_type": "markdown",
   "id": "6af32ba2-ef60-4d48-8c49-52b34de7c5eb",
   "metadata": {},
   "source": [
    "# Data Science Tools and Ecosystem"
   ]
  },
  {
   "cell_type": "markdown",
   "id": "f349ecdd-27fc-4a1d-be24-2a4d87a2872a",
   "metadata": {},
   "source": [
    "## Author\n",
    "Rebecca Stalley-Moores"
   ]
  },
  {
   "cell_type": "markdown",
   "id": "d63a150b-18d2-4e8d-b424-2ab75168cdcd",
   "metadata": {},
   "source": [
    "In this notebook, Data Science Tools and Ecosystem are summarized."
   ]
  },
  {
   "cell_type": "markdown",
   "id": "d7014884-d750-4dc4-82ec-2cc96eb7f534",
   "metadata": {},
   "source": [
    "**Objectives:**\n",
    "\n",
    "- list popular languages used in Data Science\n",
    "- list popular libraries used in Data Science\n",
    "- identify 3 well-known development environments\n",
    "- see examples of arithmetic in Juptyer Notebook"
   ]
  },
  {
   "cell_type": "markdown",
   "id": "dbf9d047-5250-44e1-b402-51de03c2f8e5",
   "metadata": {},
   "source": [
    "Some of the popular languages that Data Scientists use are:\n",
    "\n",
    "1. Python\n",
    "2. R\n",
    "3. SQL\n",
    "4. Julia\n",
    "5. Scala\n",
    "6. C / C++"
   ]
  },
  {
   "cell_type": "markdown",
   "id": "9f76bb0d-c36c-4c9b-b4ba-2c89f5d7054b",
   "metadata": {},
   "source": [
    "Some of the commonly used libraries used by Data Scientists include:\n",
    "1. Numpy\n",
    "2. Pandas\n",
    "3. Scikit-learn\n",
    "4. matplotlib"
   ]
  },
  {
   "cell_type": "markdown",
   "id": "1467fd63-04c3-40bb-8ba0-9064affdaef4",
   "metadata": {},
   "source": [
    "| Data Science Tools |\n",
    "|--------------------|\n",
    "| Anaconda |\n",
    "| Google Colab |\n",
    "| Apache Spark |"
   ]
  },
  {
   "cell_type": "markdown",
   "id": "a45109c9-4184-4126-9e6f-f60e41fc14c0",
   "metadata": {},
   "source": [
    "### Below are a few examples of evaluating arithmetic expressions in Python"
   ]
  },
  {
   "cell_type": "code",
   "execution_count": 1,
   "id": "60170ea2-6121-4150-b421-3bd8762fee63",
   "metadata": {},
   "outputs": [
    {
     "data": {
      "text/plain": [
       "17"
      ]
     },
     "execution_count": 1,
     "metadata": {},
     "output_type": "execute_result"
    }
   ],
   "source": [
    "#This a simple arithmetic expression to mutiply then add integers\n",
    "(3*4)+5"
   ]
  },
  {
   "cell_type": "code",
   "execution_count": 2,
   "id": "8e92c461-e6bb-4eca-b908-aa79821721a4",
   "metadata": {},
   "outputs": [
    {
     "data": {
      "text/plain": [
       "3.3333333333333335"
      ]
     },
     "execution_count": 2,
     "metadata": {},
     "output_type": "execute_result"
    }
   ],
   "source": [
    "#This will convert 200 minutes to hours by diving by 60\n",
    "\n",
    "minutes = 200\n",
    "hours = minutes/60\n",
    "hours"
   ]
  },
  {
   "cell_type": "code",
   "execution_count": null,
   "id": "2501dbba-241e-4ca0-9ac1-64f2c93d22a8",
   "metadata": {},
   "outputs": [],
   "source": []
  }
 ],
 "metadata": {
  "kernelspec": {
   "display_name": "Python 3 (ipykernel)",
   "language": "python",
   "name": "python3"
  },
  "language_info": {
   "codemirror_mode": {
    "name": "ipython",
    "version": 3
   },
   "file_extension": ".py",
   "mimetype": "text/x-python",
   "name": "python",
   "nbconvert_exporter": "python",
   "pygments_lexer": "ipython3",
   "version": "3.9.20"
  }
 },
 "nbformat": 4,
 "nbformat_minor": 5
}
